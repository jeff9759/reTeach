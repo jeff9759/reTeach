{
 "cells": [
  {
   "cell_type": "code",
   "execution_count": null,
   "metadata": {},
   "outputs": [],
   "source": [
    "#| default_exp chat_on_dataset"
   ]
  },
  {
   "cell_type": "code",
   "execution_count": null,
   "metadata": {},
   "outputs": [],
   "source": [
    "#| export\n",
    "import openai\n",
    "import pandas as pd"
   ]
  },
  {
   "cell_type": "markdown",
   "metadata": {},
   "source": [
    "### Chat on dataset"
   ]
  },
  {
   "cell_type": "code",
   "execution_count": null,
   "metadata": {},
   "outputs": [],
   "source": [
    "#| export\n",
    "def chat_on_dataset(message, history, file=None):\n",
    "    messages = []\n",
    "    if history:\n",
    "        # convert the history correspondingly to the format of OpenAI, the first message is always from the user, the second is from the bot\n",
    "        for message_tuple in history:\n",
    "            if message_tuple[0] != \"Start Chating!\":\n",
    "                messages.append({\"role\": \"user\", \"content\": message_tuple[0]})\n",
    "                messages.append({\"role\": \"assistant\", \"content\": message_tuple[1]})\n",
    "    elif message is None:\n",
    "        history = []\n",
    "        messages = [{\"role\": \"system\", \"content\": \"Start Chatting!\"}]\n",
    "\n",
    "\n",
    "    # If a file is uploaded, read it as a DataFrame and convert it to string\n",
    "    if file is not None:\n",
    "        try:\n",
    "            df = pd.read_csv(file.name)\n",
    "            processed_csv_message = df.to_string()\n",
    "        except Exception as e:\n",
    "            processed_csv_message = f\"Failed to read the file: {e}\"\n",
    "        \n",
    "        message += f\"The csv file is as following: \\n\\n{processed_csv_message}\"\n",
    "    \n",
    "    messages.append({\"role\": \"user\", \"content\": message})\n",
    "\n",
    "    # Get response from OpenAI\n",
    "    response = openai.ChatCompletion.create(\n",
    "        model='gpt-3.5-turbo',\n",
    "        messages=messages\n",
    "    )\n",
    "    bot_response = response.choices[0].message['content']\n",
    "    # print(bot_response)\n",
    "    # Append the bot's response to the history\n",
    "    # history.append((message, bot_response))\n",
    "\n",
    "    return bot_response"
   ]
  }
 ],
 "metadata": {
  "kernelspec": {
   "display_name": "python3",
   "language": "python",
   "name": "python3"
  }
 },
 "nbformat": 4,
 "nbformat_minor": 2
}
