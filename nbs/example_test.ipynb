{
 "cells": [
  {
   "cell_type": "code",
   "execution_count": null,
   "metadata": {},
   "outputs": [],
   "source": [
    "#| default_exp example_test"
   ]
  },
  {
   "cell_type": "code",
   "execution_count": null,
   "metadata": {},
   "outputs": [],
   "source": [
    "#| export\n",
    "import pandas as pd\n",
    "def read_csv(path, **kwargs):\n",
    "    \"\"\"Reads a csv file into a pandas DataFrame.\n",
    "\n",
    "    Args:\n",
    "        path (str): Path to the csv file.\n",
    "        **kwargs: Keyword arguments passed to pandas.read_csv.\n",
    "\n",
    "    Returns:\n",
    "        DataFrame: A pandas DataFrame.\n",
    "    \"\"\"\n",
    "    return pd.read_csv(path, **kwargs)"
   ]
  },
  {
   "cell_type": "code",
   "execution_count": null,
   "metadata": {},
   "outputs": [
    {
     "name": "stdout",
     "output_type": "stream",
     "text": [
      "    Text Label_df1 Label_df2\n",
      "0  text1         A         A\n",
      "1  text2         B         B\n",
      "2  text3         C         C\n",
      "1.0\n"
     ]
    }
   ],
   "source": [
    "import pandas as pd\n",
    "df1 = pd.DataFrame({'Text': ['text0', 'text1', 'text2', 'text3'], 'Label': ['D', 'A', 'B', 'C']})\n",
    "df2 = pd.DataFrame({'Text': ['text1', 'text2', 'text3', 'text4'], 'Label': ['A', 'B', 'C', 'D']})\n",
    "# df2 = pd.DataFrame({'Text': ['text1', 'text2', 'text3', 'text4', 'text5'], 'Label': ['A', 'X', 'C', 'Y', 'Z']})\n",
    "\n",
    "# Merge the DataFrames on 'Text' (inner join)\n",
    "merged_df = pd.merge(df1, df2, on='Text', suffixes=('_df1', '_df2'))\n",
    "\n",
    "print(merged_df)\n",
    "# Compare the 'Label' columns and count the differences\n",
    "diff_count = 1 - (merged_df['Label_df1'] != merged_df['Label_df2']).sum() / (len(merged_df))\n",
    "\n",
    "print(diff_count)"
   ]
  },
  {
   "cell_type": "code",
   "execution_count": null,
   "metadata": {},
   "outputs": [],
   "source": []
  }
 ],
 "metadata": {
  "kernelspec": {
   "display_name": "python3",
   "language": "python",
   "name": "python3"
  },
  "language_info": {
   "name": "python",
   "version": "3.8.17"
  }
 },
 "nbformat": 4,
 "nbformat_minor": 2
}
