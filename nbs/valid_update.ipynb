{
 "cells": [
  {
   "cell_type": "code",
   "execution_count": null,
   "metadata": {},
   "outputs": [],
   "source": [
    "#| default_exp valid_update "
   ]
  },
  {
   "cell_type": "code",
   "execution_count": null,
   "metadata": {},
   "outputs": [],
   "source": [
    "#| export\n",
    "import os\n",
    "import json"
   ]
  },
  {
   "cell_type": "markdown",
   "metadata": {},
   "source": [
    "### Set OpenAPI key"
   ]
  },
  {
   "cell_type": "code",
   "execution_count": null,
   "metadata": {},
   "outputs": [],
   "source": [
    "#| export\n",
    "def set_openai_key_default(key_json_path=\"\"):\n",
    "    try:\n",
    "        key_dict = json.load(open(key_json_path, 'r'))\n",
    "        for key in key_dict:\n",
    "            os.environ[key] = key_dict[key]\n",
    "    except:\n",
    "        print(\"It is better to create a json file with your OpenAI key and set the path as api_key.json in the root repo folder.\")"
   ]
  },
  {
   "cell_type": "code",
   "execution_count": null,
   "metadata": {},
   "outputs": [],
   "source": [
    "#| export\n",
    "def api_key_update(choice = \"Use my own API key\",  key_json_path=\"\", preferece_api_key=None,):\n",
    "    message = \"You choose to \"\n",
    "\n",
    "    if choice == \"Use default API key in backend\":\n",
    "        set_openai_key_default(key_json_path)\n",
    "        message += \"use default API key in backend.\"\n",
    "    \n",
    "    else:\n",
    "        os.environ['OPENAI_API_KEY'] = preferece_api_key\n",
    "        message += 'use your own API key.'\n",
    "\n",
    "    return message"
   ]
  }
 ],
 "metadata": {
  "kernelspec": {
   "display_name": "python3",
   "language": "python",
   "name": "python3"
  }
 },
 "nbformat": 4,
 "nbformat_minor": 2
}
