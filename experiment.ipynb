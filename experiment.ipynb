{
 "cells": [
  {
   "cell_type": "code",
   "execution_count": 1,
   "metadata": {},
   "outputs": [],
   "source": [
    "import pandas as pd"
   ]
  },
  {
   "cell_type": "code",
   "execution_count": 3,
   "metadata": {},
   "outputs": [],
   "source": [
    "df = pd.read_csv('data/009-1.csv')\n",
    "my_msg = df.to_string()"
   ]
  },
  {
   "cell_type": "code",
   "execution_count": 4,
   "metadata": {},
   "outputs": [
    {
     "name": "stdout",
     "output_type": "stream",
     "text": [
      "         Timestamp                                                                                Text Label\n",
      "0          0:00:00                        Good morning class, today we are going to learn about nouns.   PRS\n",
      "1   0:00:04.847265                   A noun is a word that represents a person, place, thing, or idea.   NaN\n",
      "2   0:00:09.220960                                            Can anyone give me an example of a noun?   OTR\n",
      "3   0:00:14.115834                                That's right, 'dog' is a noun because it is a thing.   NaN\n",
      "4   0:00:18.549212                                       Let's write down some nouns in our notebooks.   NaN\n",
      "5              NaN                       Now, let's talk about verbs. Does anyone know what a verb is?   NaN\n",
      "6              NaN           A verb is a word that describes an action, occurrence, or state of being.   NaN\n",
      "7   0:00:23.013970                                           Can someone give me an example of a verb?   OTR\n",
      "8              NaN                             Great example, 'run' is a verb because it is an action.   PRS\n",
      "9              NaN                                  Now, let's write down some verbs in our notebooks.   NaN\n",
      "10             NaN                                       Next, we are going to learn about adjectives.   NaN\n",
      "11  0:00:27.186775                                       An adjective is a word that describes a noun.   NaN\n",
      "12  0:00:31.558534                                     Can someone give me an example of an adjective?   OTR\n",
      "13             NaN                   Exactly, 'beautiful' is an adjective because it describes a noun.   NaN\n",
      "14  0:00:35.841980                                  Let's write down some adjectives in our notebooks.   NaN\n",
      "15  0:00:40.398608              Now we are going to form sentences using nouns, verbs, and adjectives.   NaN\n",
      "16             NaN                   A sentence is a group of words that expresses a complete thought.   NaN\n",
      "17             NaN                 Let's build a sentence together. I'll start with a noun: 'The cat'.   NaN\n",
      "18  0:00:44.802196                                             Can someone add a verb to our sentence?   OTR\n",
      "19             NaN                                         Great, now our sentence is: 'The cat runs'.   PRS\n",
      "20  0:00:49.434353                                       Can someone add an adjective to our sentence?   OTR\n",
      "21  0:00:54.210090                                Wonderful, our sentence is now: 'The fast cat runs'.   PRS\n",
      "22  0:00:58.450456                        Let's write down some of our own sentences in our notebooks.   NaN\n",
      "23             NaN                                        Now we are going to learn about punctuation.   NaN\n",
      "24             NaN     Punctuation marks are symbols that help us to organize and structure sentences.   NaN\n",
      "25  0:01:03.244528                            The period is a punctuation mark used to end a sentence.   NaN\n",
      "26             NaN                                 The question mark is used at the end of a question.   NaN\n",
      "27  0:01:08.036927                     The exclamation mark is used to express excitement or emphasis.   NaN\n",
      "28             NaN                            Can someone give me a sentence with an exclamation mark?   OTR\n",
      "29  0:01:12.865156                     Great job, that sentence definitely needed an exclamation mark!   PRS\n",
      "30             NaN  Let's write down some sentences with different punctuation marks in our notebooks.   NaN\n",
      "31  0:01:17.103391                                         Next, we are going to learn about pronouns.   NaN\n",
      "32             NaN                              A pronoun is a word that can take the place of a noun.   NaN\n",
      "33             NaN                                        Can someone give me an example of a pronoun?   OTR\n",
      "34             NaN            That's right, 'he' is a pronoun because it can take the place of a noun.   NaN\n",
      "35             NaN                                    Let's write down some pronouns in our notebooks.   NaN\n",
      "36             NaN                          Now, we are going to practice using pronouns in sentences.   NaN\n",
      "37             NaN                Let's build a sentence together. I'll start with a noun: 'The girl'.   NaN\n",
      "38             NaN                                        Can someone replace the noun with a pronoun?   OTR\n",
      "39             NaN                                     Great, now our sentence is: 'She reads a book'.   PRS\n",
      "40             NaN         Let's write down some of our own sentences using pronouns in our notebooks.   NaN\n",
      "41  0:01:21.547432                                          Next, we are going to learn about adverbs.   NaN\n",
      "42             NaN         An adverb is a word that describes a verb, an adjective, or another adverb.   NaN\n",
      "43  0:01:25.740881                                        Can someone give me an example of an adverb?   OTR\n",
      "44  0:01:30.287380         Exactly, 'quickly' is an adverb because it describes how an action is done.   NaN\n",
      "45             NaN                                     Let's write down some adverbs in our notebooks.   NaN\n",
      "46             NaN                                       Now we are going to use adverbs in sentences.   NaN\n",
      "47  0:01:34.568614                    Let's build a sentence together. I'll start with a verb: 'runs'.   NaN\n",
      "48             NaN                                          Can someone add an adverb to our sentence?   OTR\n",
      "49  0:01:39.184461                                     Great, now our sentence is: 'She runs quickly'.   PRS\n",
      "50             NaN          Let's write down some of our own sentences using adverbs in our notebooks.   NaN\n",
      "51             NaN                                  Well done, everyone! You have learned a lot today.   PRS\n",
      "52  0:01:43.534288                         Remember to practice using these new words in your writing.   NaN\n",
      "53             NaN          For homework, please write a short story using the words we learned today.   NaN\n",
      "54             NaN           Make sure to include nouns, verbs, adjectives, and adverbs in your story.   NaN\n",
      "55             NaN                          Don't forget to use correct punctuation in your sentences.   NaN\n",
      "56             NaN                                       I am looking forward to reading your stories.   PRS\n",
      "57  0:01:47.997402                     Have a great day, and remember to keep practicing your English!   NaN\n"
     ]
    }
   ],
   "source": [
    "print(my_msg)"
   ]
  },
  {
   "cell_type": "code",
   "execution_count": null,
   "metadata": {},
   "outputs": [],
   "source": []
  }
 ],
 "metadata": {
  "kernelspec": {
   "display_name": "py38",
   "language": "python",
   "name": "python3"
  },
  "language_info": {
   "codemirror_mode": {
    "name": "ipython",
    "version": 3
   },
   "file_extension": ".py",
   "mimetype": "text/x-python",
   "name": "python",
   "nbconvert_exporter": "python",
   "pygments_lexer": "ipython3",
   "version": "3.8.17"
  }
 },
 "nbformat": 4,
 "nbformat_minor": 2
}
